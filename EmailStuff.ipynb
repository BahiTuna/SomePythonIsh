{
 "cells": [
  {
   "cell_type": "code",
   "execution_count": null,
   "metadata": {},
   "outputs": [],
   "source": [
    "#function that sends email messages\n",
    "import requests\n",
    "from bs4 import BeautifulSoup\n",
    "import json\n",
    "from pandas import DataFrame as df\n",
    "import numpy as np\n",
    "import smtplib\n",
    "from email.mime.text import MIMEText\n",
    "\n",
    "sender = 'bahibothello@gmail.com'\n",
    "receivers = ['']\n",
    "body = \"\"\"You asked for it <3<br>\n",
    "        BEEG LOVE from,<br>\n",
    "        BAHI\"\"\"\n",
    "msg = MIMEText(body, 'html')\n",
    "msg['Subject'] = '<3'\n",
    "msg['From'] = sender\n",
    "msg['To'] = ','.join(receivers)\n",
    "\n",
    "s = smtplib.SMTP_SSL(host = 'smtp.gmail.com', port = 465)\n",
    "s.login(user = '', password = '')\n",
    "for i in range(1):\n",
    "    s.sendmail(sender, receivers, msg.as_string())\n",
    "s.quit()\n"
   ]
  }
 ],
 "metadata": {
  "kernelspec": {
   "display_name": "Python 3",
   "language": "python",
   "name": "python3"
  },
  "language_info": {
   "codemirror_mode": {
    "name": "ipython",
    "version": 3
   },
   "file_extension": ".py",
   "mimetype": "text/x-python",
   "name": "python",
   "nbconvert_exporter": "python",
   "pygments_lexer": "ipython3",
   "version": "3.7.6"
  }
 },
 "nbformat": 4,
 "nbformat_minor": 4
}
