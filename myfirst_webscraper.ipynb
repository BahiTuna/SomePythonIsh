{
 "cells": [
  {
   "cell_type": "code",
   "execution_count": 2,
   "metadata": {},
   "outputs": [
    {
     "name": "stdout",
     "output_type": "stream",
     "text": [
      "<!DOCTYPE html PUBLIC \"-//W3C//DTD HTML 4.01 Transitional//EN\">\n",
      "\n",
      "<html>\n",
      "<head><meta content=\"text/html; charset=utf-8\" http-equiv=\"content-type\"/><meta content=\"initial-scale=1\" name=\"viewport\"/><title>https://scholar.google.com/scholar?hl=en&amp;as_sdt=1,21&amp;as_vis=1&amp;q=%22environmental+engineering%22&amp;scisbd=1</title></head>\n",
      "<body onload=\"e=document.getElementById('captcha');if(e){e.focus();}\" style=\"font-family: arial, sans-serif; background-color: #fff; color: #000; padding:20px; font-size:18px;\">\n",
      "<div style=\"max-width:400px;\">\n",
      "<hr noshade=\"\" size=\"1\" style=\"color:#ccc; background-color:#ccc;\"/><br/>\n",
      "<form action=\"index\" id=\"captcha-form\" method=\"post\">\n",
      "<script async=\"\" defer=\"\" src=\"https://www.google.com/recaptcha/api.js\"></script>\n",
      "<script>var submitCallback = function(response) {document.getElementById('captcha-form').submit();};</script>\n",
      "<div class=\"g-recaptcha\" data-callback=\"submitCallback\" data-s=\"DxFS6P5kB7T4eTENAiW2lhjODJWwsBQ_eTK5A9sTNFCHjZfqJN1NKgS5Yt_7ZyuMHbMNEpYWl6n0gRKXsDCwB3vUGMhSa8OGw0voYL038hE3UpSdzrmONpK5nVnvY2sp8wJ-Wb7vxTs9Ogoe7f4T2PdnOY5YXlrydK3U-CioVJt51NMaH_up4AYPhsxQ66NJMGjiXl2JQLVtRwkYYH_oFGjhjKhD7nNvnNyG-AYrGgkBnveVY4WVekY\" data-sitekey=\"6LfwuyUTAAAAAOAmoS0fdqijC2PbbdH4kjq62Y1b\" id=\"recaptcha\"></div>\n",
      "<input name=\"q\" type=\"hidden\" value=\"EgStTxQXGNqD7_cFIhkA8aeDS72OtHX10ntkR21wTyguyI8szD3fMgFy\"/><input name=\"continue\" type=\"hidden\" value=\"https://scholar.google.com/scholar?hl=en&amp;as_sdt=1,21&amp;as_vis=1&amp;q=%22environmental+engineering%22&amp;scisbd=1\"/>\n",
      "</form>\n",
      "<hr noshade=\"\" size=\"1\" style=\"color:#ccc; background-color:#ccc;\"/>\n",
      "<div style=\"font-size:13px;\">\n",
      "<b>About this page</b><br/><br/>\n",
      "\n",
      "Our systems have detected unusual traffic from your computer network.  This page checks to see if it's really you sending the requests, and not a robot.  <a href=\"#\" onclick=\"document.getElementById('infoDiv').style.display='block';\">Why did this happen?</a><br/><br/>\n",
      "<div id=\"infoDiv\" style=\"display:none; background-color:#eee; padding:10px; margin:0 0 15px 0; line-height:1.4em;\">\n",
      "This page appears when Google automatically detects requests coming from your computer network which appear to be in violation of the <a href=\"//www.google.com/policies/terms/\">Terms of Service</a>. The block will expire shortly after those requests stop.  In the meantime, solving the above CAPTCHA will let you continue to use our services.<br/><br/>This traffic may have been sent by malicious software, a browser plug-in, or a script that sends automated requests.  If you share your network connection, ask your administrator for help — a different computer using the same IP address may be responsible.  <a href=\"//support.google.com/websearch/answer/86640\">Learn more</a><br/><br/>Sometimes you may be asked to solve the CAPTCHA if you are using advanced terms that robots are known to use, or sending requests very quickly.\n",
      "</div>\n",
      "\n",
      "IP address: 173.79.20.23<br/>Time: 2020-06-30T22:51:06Z<br/>URL: https://scholar.google.com/scholar?hl=en&amp;as_sdt=1,21&amp;as_vis=1&amp;q=%22environmental+engineering%22&amp;scisbd=1<br/>\n",
      "</div>\n",
      "</div>\n",
      "</body>\n",
      "</html>\n",
      "\n",
      "[]\n",
      "({}, '[Newest Environmental Engineering Articles]<br>')\n"
     ]
    }
   ],
   "source": [
    "import requests\n",
    "from bs4 import BeautifulSoup\n",
    "import json\n",
    "from pandas import DataFrame as df\n",
    "import numpy as np\n",
    "import smtplib\n",
    "from email.mime.text import MIMEText\n",
    "import time\n",
    "\n",
    "\n",
    "def article_msg(body):\n",
    "    sender = 'bahibothello@gmail.com'\n",
    "    receivers = ['hexigonal@gmail.com']\n",
    "    msg = MIMEText(body, 'html')\n",
    "    msg['Subject'] = 'Environmental Engineering Research Notifications'\n",
    "    msg['From'] = sender\n",
    "    msg['To'] = ','.join(receivers)\n",
    "\n",
    "    s = smtplib.SMTP_SSL(host = 'smtp.gmail.com', port = 465)\n",
    "    s.login(user = 'bahibothello@gmail.com', password = 'HappyPythonQueries')\n",
    "    s.sendmail(sender, receivers, msg.as_string())\n",
    "    s.quit()\n",
    "\n",
    "def article_search(google_scholar_list):\n",
    "    article_dict = {}\n",
    "    for article in google_scholar_list:\n",
    "        article_link = article.h3.a['href']\n",
    "        article_title = article.h3.a.text\n",
    "        article_dict[article_title] = article_link\n",
    "    body = '[Newest Environmental Engineering Articles]' + '<br>'\n",
    "    for keys in article_dict.keys():\n",
    "        body += 'Article: ' + keys + '<br>' + 'link: ' + article_dict[keys] + '<br><br>'\n",
    "    return article_dict, body\n",
    "\n",
    "page = requests.get('https://scholar.google.com/scholar?hl=en&as_sdt=1,21&as_vis=1&q=%22environmental+engineering%22&scisbd=1')\n",
    "soup = BeautifulSoup(page.text, 'html.parser')\n",
    "google_scholar_list = soup.find_all(class_ = 'gs_r gs_or gs_scl')\n",
    "print(soup)\n",
    "print(google_scholar_list)\n",
    "newest_dictionary = {}\n",
    "init_search = article_search(google_scholar_list)\n",
    "print(init_search)\n",
    "# while True:\n",
    "#     time.sleep(20)\n",
    "#     page = requests.get('https://scholar.google.com/scholar?hl=en&as_sdt=1,21&as_vis=1&q=%22environmental+engineering%22&scisbd=1')\n",
    "#     soup = BeautifulSoup(page.text, 'html.parser')\n",
    "#     google_scholar_list = soup.find_all(class_ = 'gs_r gs_or gs_scl')\n",
    "#     init_search = article_search(google_scholar_list)\n",
    "#     temp_dictionary = init_search[0]\n",
    "#     if newest_dictionary != temp_dictionary:\n",
    "#         newest_dictionary = temp_dictionary\n",
    "#         article_msg(init_search[1])\n",
    "        "
   ]
  },
  {
   "cell_type": "code",
   "execution_count": 7,
   "metadata": {},
   "outputs": [
    {
     "data": {
      "text/plain": [
       "(221, b'2.0.0 closing connection o21sm4244281qtt.25 - gsmtp')"
      ]
     },
     "execution_count": 7,
     "metadata": {},
     "output_type": "execute_result"
    }
   ],
   "source": [
    "#function that sends email messages\n",
    "import requests\n",
    "from bs4 import BeautifulSoup\n",
    "import json\n",
    "from pandas import DataFrame as df\n",
    "import numpy as np\n",
    "import smtplib\n",
    "from email.mime.text import MIMEText\n",
    "\n",
    "sender = 'bahibothello@gmail.com'\n",
    "receivers = ['']\n",
    "body = \"\"\"You asked for it <3<br>\n",
    "        BEEG LOVE from,<br>\n",
    "        BAHI\"\"\"\n",
    "msg = MIMEText(body, 'html')\n",
    "msg['Subject'] = '<3'\n",
    "msg['From'] = sender\n",
    "msg['To'] = ','.join(receivers)\n",
    "\n",
    "s = smtplib.SMTP_SSL(host = 'smtp.gmail.com', port = 465)\n",
    "s.login(user = 'bahibothello@gmail.com', password = 'HappyPythonQueries')\n",
    "for i in range(1):\n",
    "    s.sendmail(sender, receivers, msg.as_string())\n",
    "s.quit()\n"
   ]
  },
  {
   "cell_type": "code",
   "execution_count": null,
   "metadata": {},
   "outputs": [],
   "source": []
  }
 ],
 "metadata": {
  "kernelspec": {
   "display_name": "Python 3",
   "language": "python",
   "name": "python3"
  },
  "language_info": {
   "codemirror_mode": {
    "name": "ipython",
    "version": 3
   },
   "file_extension": ".py",
   "mimetype": "text/x-python",
   "name": "python",
   "nbconvert_exporter": "python",
   "pygments_lexer": "ipython3",
   "version": "3.7.6"
  }
 },
 "nbformat": 4,
 "nbformat_minor": 4
}
